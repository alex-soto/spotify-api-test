{
 "cells": [
  {
   "cell_type": "code",
   "execution_count": null,
   "metadata": {
    "collapsed": true
   },
   "outputs": [],
   "source": []
  },
  {
   "cell_type": "code",
   "execution_count": 21,
   "metadata": {
    "collapsed": true
   },
   "outputs": [],
   "source": [
    "# ********** Import Statements ************************************************************ #\n",
    "import sys\n",
    "import spotipy\n",
    "import spotipy.util as util\n",
    "\n",
    "import pandas as pd"
   ]
  },
  {
   "cell_type": "code",
   "execution_count": 2,
   "metadata": {
    "collapsed": true
   },
   "outputs": [],
   "source": [
    "# ********** Variables ******************************************************************** #\n",
    "username = '1242091675'\n",
    "#\n",
    "#------#\n",
    "\n",
    "scope = 'user-library-read'\n",
    "client_id = 'a7a7510a67034ce28856364ce96c5504'\n",
    "client_secret = 'dc8caa4f8413463e9009dd2cf758e560'\n",
    "redirect_uri = 'http://localhost:1410/'"
   ]
  },
  {
   "cell_type": "code",
   "execution_count": 82,
   "metadata": {
    "collapsed": true
   },
   "outputs": [],
   "source": [
    "# ********** Functions ******************************************************************** #\n",
    "def show_tracks(tracks):\n",
    "    for i, item in enumerate(tracks['items']):\n",
    "        track = item['track']\n",
    "        print \"   %d %32.32s %s\" % (i, track['artists'][0]['name'],\n",
    "            track['name'])\n",
    "        \n",
    "def get_playlist_songs_into_df(usr, playlists):\n",
    "    col_names = ['Artist', 'Title']\n",
    "    songs_df = pd.DataFrame(columns=col_names)\n",
    "    \n",
    "    for playlist in playlists['items']:\n",
    "        if playlist['owner']['id'] == usr:\n",
    "            results = sp.user_playlist(usr, playlist['id'],\n",
    "                fields=\"tracks,next\")\n",
    "            tracks = results['tracks']\n",
    "            for i, item in enumerate(tracks['items']):\n",
    "                track = item['track']\n",
    "                \n",
    "                song_deets = [[track['artists'][0]['name'], track['name']]]\n",
    "                songs_df = songs_df.append(pd.DataFrame(song_deets, columns=col_names), ignore_index=True)\n",
    "    return songs_df\n",
    "            #print tracks['artists'][0]['name'] + ' ' + track['name']\n",
    "    \n",
    "def get_saved_tracks_into_df():\n",
    "    col_names = ['Artist', 'Title']\n",
    "    songs_df = pd.DataFrame(columns=col_names)\n",
    "    \n",
    "    # we have this but just incase:\n",
    "    saved_tracks = sp.current_user_saved_tracks()\n",
    "    \n",
    "    for item in saved_tracks['items']:\n",
    "        track = item['track']\n",
    "        \n",
    "        song_deets = [[track['artists'][0]['name'], track['name']]]\n",
    "        songs_df = songs_df.append(pd.DataFrame(song_deets, columns=col_names), ignore_index=True)\n",
    "        \n",
    "    return songs_df"
   ]
  },
  {
   "cell_type": "code",
   "execution_count": 4,
   "metadata": {
    "collapsed": true
   },
   "outputs": [],
   "source": [
    "# ********** Spotify Connection String **************************************************** #\n",
    "token = util.prompt_for_user_token(username,\n",
    "                                   scope,\n",
    "                                   client_id,\n",
    "                                   client_secret,\n",
    "                                   redirect_uri)\n",
    "sp = spotipy.Spotify(auth=token)"
   ]
  },
  {
   "cell_type": "code",
   "execution_count": 5,
   "metadata": {
    "collapsed": true
   },
   "outputs": [],
   "source": [
    "# ********** Assorted Results ************************************************************* #\n",
    "user = sp.user(username)\n",
    "saved_tracks = sp.current_user_saved_tracks()\n",
    "\n",
    "playlists = sp.user_playlists(username)\n",
    "playlists_cassie = sp.user_playlists(username)\n",
    "playlists_alex = sp.user_playlists('alex-soto')\n",
    "playlists_dwayne = sp.user_playlists('dwayne.pryce')"
   ]
  },
  {
   "cell_type": "code",
   "execution_count": 6,
   "metadata": {
    "collapsed": true
   },
   "outputs": [
    {
     "name": "stdout",
     "output_type": "stream",
     "text": [
      "Lifting The Sea - The Hunts\n",
      "Valser a l'envers C - Safia Nolin\n",
      "Stretch Your Eyes - Ambient Acapella - Agnes Obel\n",
      "La Última Vez - Morat\n",
      "Time Of Your Life - Chicane\n",
      "Prémonition - Cœur De Pirate\n",
      "Oseh Shalom - Aryeh Kunstler\n",
      "Wildflowers - The Wailin' Jennys\n",
      "Still Alive - VoicePlay\n",
      "Wherever You Go - A Rocket To The Moon\n",
      "Ooh - Jon Bellion\n",
      "Always Gold - Radical Face\n",
      "The Rake's Song - The Decemberists\n",
      "Fallin' For You - Gardiner Sisters\n",
      "I Hate You I Love You / This Town (Acoustic Mashup) [feat. Morgan McCollum] - Landon Austin\n",
      "Red Dress - Lovehatehero\n",
      "NOMAD - Walk Off the Earth\n",
      "You Make Me Happy - Caylin Cervetti\n",
      "Love Will Find You There - Beyond 5\n",
      "I'll Think of You - Kurt Hugo Schneider\n",
      "Can't get token for 1242091675\n"
     ]
    }
   ],
   "source": [
    "results = sp.current_user_saved_tracks()\n",
    "for item in results['items']:\n",
    "    track = item['track']\n",
    "    print track['name'] + ' - ' + track['artists'][0]['name']\n",
    "\n",
    "print \"Can't get token for\", username"
   ]
  },
  {
   "cell_type": "code",
   "execution_count": 51,
   "metadata": {},
   "outputs": [
    {
     "data": {
      "text/html": [
       "<div>\n",
       "<style>\n",
       "    .dataframe thead tr:only-child th {\n",
       "        text-align: right;\n",
       "    }\n",
       "\n",
       "    .dataframe thead th {\n",
       "        text-align: left;\n",
       "    }\n",
       "\n",
       "    .dataframe tbody tr th {\n",
       "        vertical-align: top;\n",
       "    }\n",
       "</style>\n",
       "<table border=\"1\" class=\"dataframe\">\n",
       "  <thead>\n",
       "    <tr style=\"text-align: right;\">\n",
       "      <th></th>\n",
       "      <th>Artist</th>\n",
       "      <th>Title</th>\n",
       "    </tr>\n",
       "  </thead>\n",
       "  <tbody>\n",
       "    <tr>\n",
       "      <th>0</th>\n",
       "      <td>a</td>\n",
       "      <td>b</td>\n",
       "    </tr>\n",
       "    <tr>\n",
       "      <th>1</th>\n",
       "      <td>c</td>\n",
       "      <td>d</td>\n",
       "    </tr>\n",
       "  </tbody>\n",
       "</table>\n",
       "</div>"
      ],
      "text/plain": [
       "  Artist Title\n",
       "0      a     b\n",
       "1      c     d"
      ]
     },
     "execution_count": 51,
     "metadata": {},
     "output_type": "execute_result"
    }
   ],
   "source": [
    "col_names = ['Artist', 'Title']\n",
    "df = pd.DataFrame(columns=col_names)\n",
    "\n",
    "vector = [['a', 'b']]\n",
    "vector2 = [['c', 'd']]\n",
    "df = df.append(pd.DataFrame(vector, columns=col_names), ignore_index=True)\n",
    "df.append(pd.DataFrame(vector2, columns=col_names), ignore_index=True)\n"
   ]
  },
  {
   "cell_type": "code",
   "execution_count": 86,
   "metadata": {},
   "outputs": [],
   "source": [
    "songs_cassie_df = get_playlist_songs_into_df(username, playlists_cassie)\n",
    "songs_cassie_df = songs_cassie_df.append(get_saved_tracks_into_df())"
   ]
  },
  {
   "cell_type": "code",
   "execution_count": 87,
   "metadata": {
    "collapsed": true
   },
   "outputs": [],
   "source": [
    "songs_alex_df = get_playlist_songs_into_df('alex-soto', playlists_alex)"
   ]
  },
  {
   "cell_type": "code",
   "execution_count": 88,
   "metadata": {
    "collapsed": true
   },
   "outputs": [],
   "source": [
    "songs_dwayne_df = get_playlist_songs_into_df('dwayne.pryce', playlists_dwayne)"
   ]
  },
  {
   "cell_type": "code",
   "execution_count": 91,
   "metadata": {
    "scrolled": true
   },
   "outputs": [
    {
     "data": {
      "text/html": [
       "<div>\n",
       "<style>\n",
       "    .dataframe thead tr:only-child th {\n",
       "        text-align: right;\n",
       "    }\n",
       "\n",
       "    .dataframe thead th {\n",
       "        text-align: left;\n",
       "    }\n",
       "\n",
       "    .dataframe tbody tr th {\n",
       "        vertical-align: top;\n",
       "    }\n",
       "</style>\n",
       "<table border=\"1\" class=\"dataframe\">\n",
       "  <thead>\n",
       "    <tr style=\"text-align: right;\">\n",
       "      <th></th>\n",
       "      <th>Artist</th>\n",
       "      <th>Title</th>\n",
       "    </tr>\n",
       "  </thead>\n",
       "  <tbody>\n",
       "    <tr>\n",
       "      <th>0</th>\n",
       "      <td>Third Eye Blind</td>\n",
       "      <td>Semi-Charmed Life</td>\n",
       "    </tr>\n",
       "    <tr>\n",
       "      <th>1</th>\n",
       "      <td>Barenaked Ladies</td>\n",
       "      <td>One Week</td>\n",
       "    </tr>\n",
       "    <tr>\n",
       "      <th>2</th>\n",
       "      <td>The Wallflowers</td>\n",
       "      <td>One Headlight</td>\n",
       "    </tr>\n",
       "    <tr>\n",
       "      <th>3</th>\n",
       "      <td>Eagle-Eye Cherry</td>\n",
       "      <td>Save Tonight</td>\n",
       "    </tr>\n",
       "    <tr>\n",
       "      <th>4</th>\n",
       "      <td>Semisonic</td>\n",
       "      <td>Closing Time</td>\n",
       "    </tr>\n",
       "  </tbody>\n",
       "</table>\n",
       "</div>"
      ],
      "text/plain": [
       "             Artist              Title\n",
       "0   Third Eye Blind  Semi-Charmed Life\n",
       "1  Barenaked Ladies           One Week\n",
       "2   The Wallflowers      One Headlight\n",
       "3  Eagle-Eye Cherry       Save Tonight\n",
       "4         Semisonic       Closing Time"
      ]
     },
     "execution_count": 91,
     "metadata": {},
     "output_type": "execute_result"
    }
   ],
   "source": [
    "s1 = pd.merge(songs_dwayne_df, songs_alex_df, how='inner', on=['Artist', 'Title'])\n",
    "s1"
   ]
  },
  {
   "cell_type": "code",
   "execution_count": null,
   "metadata": {
    "collapsed": true
   },
   "outputs": [],
   "source": []
  }
 ],
 "metadata": {
  "kernelspec": {
   "display_name": "Python 2",
   "language": "python",
   "name": "python2"
  },
  "language_info": {
   "codemirror_mode": {
    "name": "ipython",
    "version": 2
   },
   "file_extension": ".py",
   "mimetype": "text/x-python",
   "name": "python",
   "nbconvert_exporter": "python",
   "pygments_lexer": "ipython2",
   "version": "2.7.13"
  }
 },
 "nbformat": 4,
 "nbformat_minor": 2
}
