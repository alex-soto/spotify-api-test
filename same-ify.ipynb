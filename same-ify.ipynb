{
 "cells": [
  {
   "cell_type": "code",
   "execution_count": 1,
   "metadata": {},
   "outputs": [],
   "source": [
    "# ********** Import Statements ************************************************************ #\n",
    "import sys\n",
    "import spotipy\n",
    "import spotipy.util as util\n",
    "\n",
    "import pandas as pd"
   ]
  },
  {
   "cell_type": "code",
   "execution_count": null,
   "metadata": {},
   "outputs": [],
   "source": [
    "# ********** Variables ******************************************************************** #\n",
    "self_username = '1242091675'\n",
    "other_username = '12166088827'\n",
    "#\n",
    "#------#\n",
    "\n",
    "scope = 'user-library-read'\n",
    "client_id = 'a7a7510a67034ce28856364ce96c5504'\n",
    "client_secret = '0c6ce5bb04264146aa6ed2f6842a83a7'\n",
    "redirect_uri = 'http://localhost:1410/'"
   ]
  },
  {
   "cell_type": "code",
   "execution_count": null,
   "metadata": {},
   "outputs": [],
   "source": [
    "# ********** Spotify Connection String **************************************************** #\n",
    "token = util.prompt_for_user_token(username,\n",
    "                                   scope,\n",
    "                                   client_id,\n",
    "                                   client_secret,\n",
    "                                   redirect_uri)\n",
    "sp = spotipy.Spotify(auth=token)"
   ]
  },
  {
   "cell_type": "code",
   "execution_count": null,
   "metadata": {},
   "outputs": [],
   "source": [
    "# # ********** Test Class ******************************************************************* #\n",
    "# class spootifer(sp_id):\n",
    "#     def __init__(self, sp_id):\n",
    "#         self.id = sp_id\n",
    "        \n",
    "    "
   ]
  },
  {
   "cell_type": "code",
   "execution_count": null,
   "metadata": {},
   "outputs": [],
   "source": [
    "other_playlists['items'][0]#.keys()#['id']"
   ]
  },
  {
   "cell_type": "code",
   "execution_count": null,
   "metadata": {},
   "outputs": [],
   "source": [
    "# ********** Functions ******************************************************************** #\n",
    "def show_tracks(tracks):\n",
    "    for i, item in enumerate(tracks['items']):\n",
    "        track = item['track']\n",
    "        print \"   %d %32.32s %s\" % (i, track['artists'][0]['name'],\n",
    "            track['name'])\n",
    "        \n",
    "def get_playlist_songs_into_df(usr, playlists, name=''):\n",
    "    songs_df = pd.DataFrame()\n",
    "    \n",
    "    def parse_playlist(playlist):\n",
    "        temp_df = pd.DataFrame()\n",
    "        if playlist['owner']['id'] == usr:\n",
    "            results = sp.user_playlist(usr, playlist['id'],\n",
    "                fields=\"tracks,next\")\n",
    "            tracks = results['tracks']\n",
    "            for i, item in enumerate(tracks['items']):\n",
    "                track = item['track']\n",
    "\n",
    "                track_deets = pd.DataFrame({'playlist_id': playlist['id'],\n",
    "                                           'playlist': playlist['name'], \n",
    "                                           'artist': track['artists'][0]['name'], \n",
    "                                           'title': track['name'],\n",
    "                                           'song_id': track['id']})\n",
    "                song_deets = pd.DataFrame(sp.audio_features(track['id']))\n",
    "                playlist_deets = pd.merge(track_deets, song_deets, \n",
    "                                          how='left', \n",
    "                                          left_on = 'song_id', \n",
    "                                          right_on='id')\n",
    "                temp_df = temp_df.append(playlist_deets)\n",
    "                \n",
    "        return temp_df\n",
    "\n",
    "    if name != '':\n",
    "        playlist = [x for x in other_playlists['items'] if x['name'] == name][0]\n",
    "        pl = parse_playlist(playlist)\n",
    "        songs_df = songs_df.append(pl)\n",
    "    else:\n",
    "        for playlist in playlists['items']:\n",
    "            songs_df = songs_df.append(parse_playlist(playlist), ignore_index=True)\n",
    "    return songs_df\n",
    "            #print tracks['artists'][0]['name'] + ' ' + track['name']\n",
    "    \n",
    "def get_saved_tracks_into_df():\n",
    "    col_names = ['Artist', 'Title']\n",
    "    songs_df = pd.DataFrame(columns=col_names)\n",
    "    \n",
    "    # we have this but just incase:\n",
    "    saved_tracks = sp.current_user_saved_tracks()\n",
    "    \n",
    "    for item in saved_tracks['items']:\n",
    "        track = item['track']\n",
    "        \n",
    "        song_deets = [[track['artists'][0]['name'], track['name']]]\n",
    "        songs_df = songs_df.append(pd.DataFrame(song_deets, columns=col_names), ignore_index=True)\n",
    "        \n",
    "    return songs_df\n",
    "\n",
    "def get_playlist_names(playlists):\n",
    "    return [x['name'] for x in other_playlists['items']]\n",
    "\n",
    "def get_playlist_id(playlists, name):\n",
    "    return [x['id'] for x in other_playlists['items'] if x['name'] == 'Mr. Disco Pop Pants'][0]"
   ]
  },
  {
   "cell_type": "code",
   "execution_count": null,
   "metadata": {},
   "outputs": [],
   "source": [
    "# ********** Assorted Results ************************************************************* #\n",
    "user = sp.user(self_username)\n",
    "user_saved_tracks = sp.current_user_saved_tracks()\n",
    "user_playlists = sp.user_playlists(self_username)\n",
    "other = sp.user(other_username)\n",
    "other_playlists = sp.user_playlists(other_username)\n",
    " "
   ]
  },
  {
   "cell_type": "code",
   "execution_count": null,
   "metadata": {
    "scrolled": true
   },
   "outputs": [],
   "source": [
    "get_playlist_names(other_playlists)"
   ]
  },
  {
   "cell_type": "code",
   "execution_count": null,
   "metadata": {},
   "outputs": [],
   "source": [
    "get_playlist_id(other_playlists, 'Mr. Disco Pop Pants')"
   ]
  },
  {
   "cell_type": "code",
   "execution_count": null,
   "metadata": {},
   "outputs": [],
   "source": [
    "other_playlists_df = get_playlist_songs_into_df(other_username, other_playlists, 'sexy sexy')"
   ]
  },
  {
   "cell_type": "code",
   "execution_count": null,
   "metadata": {},
   "outputs": [],
   "source": [
    "other_playlists_df"
   ]
  },
  {
   "cell_type": "code",
   "execution_count": null,
   "metadata": {},
   "outputs": [],
   "source": [
    "print results['items'][0]['track']['name']"
   ]
  },
  {
   "cell_type": "code",
   "execution_count": null,
   "metadata": {},
   "outputs": [],
   "source": [
    "# Use '#polycomm'\n",
    "# Over time, are there any trends.\n",
    "# Are there any shared trends?"
   ]
  },
  {
   "cell_type": "code",
   "execution_count": null,
   "metadata": {},
   "outputs": [],
   "source": [
    "get_playlist_names(other_playlists)"
   ]
  },
  {
   "cell_type": "code",
   "execution_count": null,
   "metadata": {},
   "outputs": [],
   "source": [
    "results['items'][0]['track']['id']"
   ]
  },
  {
   "cell_type": "code",
   "execution_count": null,
   "metadata": {},
   "outputs": [],
   "source": [
    "results = sp.current_user_saved_tracks(limit=50, offset=0)\n",
    "for item in results['items']:\n",
    "    track = item['track']\n",
    "    print track['name'] + ' - ' + track['artists'][0]['name']\n"
   ]
  },
  {
   "cell_type": "code",
   "execution_count": null,
   "metadata": {},
   "outputs": [],
   "source": [
    "col_names = ['Artist', 'Title']\n",
    "df = pd.DataFrame(columns=col_names)\n",
    "\n",
    "vector = [['a', 'b']]\n",
    "vector2 = [['c', 'd']]\n",
    "df = df.append(pd.DataFrame(vector, columns=col_names), ignore_index=True)\n",
    "df.append(pd.DataFrame(vector2, columns=col_names), ignore_index=True)\n"
   ]
  },
  {
   "cell_type": "code",
   "execution_count": null,
   "metadata": {},
   "outputs": [],
   "source": [
    "songs_cassie_df = get_playlist_songs_into_df(username, playlists_cassie)\n",
    "songs_cassie_df = songs_cassie_df.append(get_saved_tracks_into_df())"
   ]
  },
  {
   "cell_type": "code",
   "execution_count": null,
   "metadata": {},
   "outputs": [],
   "source": [
    "songs_alex_df = get_playlist_songs_into_df('alex-soto', playlists_alex)"
   ]
  },
  {
   "cell_type": "code",
   "execution_count": null,
   "metadata": {},
   "outputs": [],
   "source": [
    "songs_dwayne_df = get_playlist_songs_into_df('dwayne.pryce', playlists_dwayne)"
   ]
  },
  {
   "cell_type": "code",
   "execution_count": null,
   "metadata": {
    "scrolled": true
   },
   "outputs": [],
   "source": [
    "s1 = pd.merge(songs_dwayne_df, songs_alex_df, how='inner', on=['Artist', 'Title'])\n",
    "s1"
   ]
  },
  {
   "cell_type": "code",
   "execution_count": null,
   "metadata": {},
   "outputs": [],
   "source": []
  }
 ],
 "metadata": {
  "kernelspec": {
   "display_name": "Python 3",
   "language": "python",
   "name": "python3"
  },
  "language_info": {
   "codemirror_mode": {
    "name": "ipython",
    "version": 3
   },
   "file_extension": ".py",
   "mimetype": "text/x-python",
   "name": "python",
   "nbconvert_exporter": "python",
   "pygments_lexer": "ipython3",
   "version": "3.6.5"
  }
 },
 "nbformat": 4,
 "nbformat_minor": 2
}
